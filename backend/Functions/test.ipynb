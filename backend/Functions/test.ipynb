{
 "cells": [
  {
   "cell_type": "code",
   "execution_count": 1,
   "metadata": {},
   "outputs": [
    {
     "name": "stderr",
     "output_type": "stream",
     "text": [
      "c:\\Users\\Asus\\Desktop\\Hackathon\\Err404\\NOps_Err6.0\\backend\\venv\\Lib\\site-packages\\tqdm\\auto.py:21: TqdmWarning: IProgress not found. Please update jupyter and ipywidgets. See https://ipywidgets.readthedocs.io/en/stable/user_install.html\n",
      "  from .autonotebook import tqdm as notebook_tqdm\n"
     ]
    }
   ],
   "source": [
    "import os\n",
    "from dotenv import load_dotenv\n",
    "from pathlib import Path\n",
    "import fitz\n",
    "load_dotenv()  # tak\n",
    "from llama_index.multi_modal_llms.gemini import GeminiMultiModal\n",
    "from llama_index.core.program import MultiModalLLMCompletionProgram\n",
    "from llama_index.core.output_parsers import PydanticOutputParser\n",
    "from llama_index.core.schema import TextNode\n",
    "from llama_index.core import SimpleDirectoryReader\n"
   ]
  },
  {
   "cell_type": "code",
   "execution_count": 1,
   "metadata": {},
   "outputs": [
    {
     "name": "stdout",
     "output_type": "stream",
     "text": [
      "Extraction complete. Files saved in 'C:\\Users\\Asus\\Desktop\\Hackathon\\Err404\\NOps_Err6.0\\backend\\Functions\\tmp'.\n"
     ]
    }
   ],
   "source": [
    "from pathlib import Path\n",
    "import fitz  # PyMuPDF\n",
    "\n",
    "# Determine the script's directory (fallback for environments where __file__ is not available)\n",
    "script_dir = Path(__file__).parent if \"__file__\" in globals() else Path.cwd()\n",
    "\n",
    "# Define the PDF file path and output directory using relative paths\n",
    "pdf_path = script_dir / \"OTC_SEKEY_2023.pdf\"  # Ensure the PDF is in the same directory as the script\n",
    "output_dir = script_dir / \"tmp\"\n",
    "\n",
    "# Create the output directory if it doesn't exist\n",
    "output_dir.mkdir(exist_ok=True)\n",
    "\n",
    "# Open the PDF file\n",
    "pdf_document = fitz.open(str(pdf_path))\n",
    "\n",
    "# Initialize counters\n",
    "image_uuid = 0\n",
    "\n",
    "# Iterate through each page in the PDF\n",
    "for page_num, page in enumerate(pdf_document):\n",
    "    # Extract text from the page\n",
    "    text = page.get_text()\n",
    "    if text.strip():  # Save text only if it's not empty\n",
    "        text_file_path = output_dir / f\"page_{page_num + 1}.txt\"\n",
    "        text_file_path.write_text(text, encoding=\"utf-8\")\n",
    "\n",
    "    # Extract images from the page\n",
    "    image_list = page.get_images(full=True)\n",
    "    for img_index, img in enumerate(image_list):\n",
    "        image_uuid += 1\n",
    "        xref = img[0]  # XREF of the image\n",
    "        base_image = pdf_document.extract_image(xref)\n",
    "        image_bytes = base_image[\"image\"]\n",
    "        image_ext = base_image[\"ext\"]\n",
    "        image_filename = output_dir / f\"{image_uuid}.{image_ext}\"\n",
    "        \n",
    "        with open(image_filename, \"wb\") as image_file:\n",
    "            image_file.write(image_bytes)\n",
    "\n",
    "print(f\"Extraction complete. Files saved in '{output_dir.resolve()}'.\")\n"
   ]
  },
  {
   "cell_type": "markdown",
   "metadata": {},
   "source": []
  },
  {
   "cell_type": "code",
   "execution_count": null,
   "metadata": {},
   "outputs": [],
   "source": []
  }
 ],
 "metadata": {
  "kernelspec": {
   "display_name": "venv",
   "language": "python",
   "name": "python3"
  },
  "language_info": {
   "codemirror_mode": {
    "name": "ipython",
    "version": 3
   },
   "file_extension": ".py",
   "mimetype": "text/x-python",
   "name": "python",
   "nbconvert_exporter": "python",
   "pygments_lexer": "ipython3",
   "version": "3.11.7"
  }
 },
 "nbformat": 4,
 "nbformat_minor": 2
}
